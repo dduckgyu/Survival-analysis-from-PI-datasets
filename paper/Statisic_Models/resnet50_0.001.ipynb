{
 "cells": [
  {
   "cell_type": "code",
   "execution_count": 1,
   "metadata": {},
   "outputs": [],
   "source": [
    "import warnings\n",
    "warnings.filterwarnings('ignore')"
   ]
  },
  {
   "cell_type": "code",
   "execution_count": 2,
   "metadata": {},
   "outputs": [],
   "source": [
    "import numpy as np\n",
    "import pandas as pd\n",
    "import matplotlib.pyplot as plt\n",
    "import torch\n",
    "import torch.nn as nn\n",
    "\n",
    "\n",
    "import os\n",
    "os.environ['CUDA_VISIBLE_DEVICES'] = '4'\n",
    "\n",
    "# import os\n",
    "# os.environ['CUDA_VISIBLE_DEVICES'] = '1,2'\n"
   ]
  },
  {
   "cell_type": "code",
   "execution_count": 3,
   "metadata": {},
   "outputs": [
    {
     "name": "stdout",
     "output_type": "stream",
     "text": [
      "Device: cuda\n",
      "Current cuda device: 0\n",
      "Count of using GPUs: 1\n"
     ]
    }
   ],
   "source": [
    "device = torch.device(\"cuda\" if torch.cuda.is_available() else \"cpu\")\n",
    "\n",
    "print('Device:', device)\n",
    "print('Current cuda device:', torch.cuda.current_device())\n",
    "print('Count of using GPUs:', torch.cuda.device_count())"
   ]
  },
  {
   "cell_type": "code",
   "execution_count": 4,
   "metadata": {},
   "outputs": [],
   "source": [
    "def seed_everything(random_state=0):\n",
    "    \"\"\"\n",
    "    Fix randomness for deterministic results\n",
    "    :param random_state: random state generating random numbers\n",
    "    :return: None\n",
    "    \"\"\"\n",
    "\n",
    "    np.random.seed(random_state)\n",
    "    _ = torch.manual_seed(random_state)\n",
    "    torch.cuda.manual_seed(random_state)\n",
    "    torch.cuda.manual_seed_all(random_state)\n",
    "    torch.backends.cudnn.deterministic = True\n",
    "    torch.backends.cudnn.benchmark = False"
   ]
  },
  {
   "cell_type": "code",
   "execution_count": 5,
   "metadata": {},
   "outputs": [],
   "source": [
    "random_state = 0\n",
    "seed_everything(random_state)"
   ]
  },
  {
   "cell_type": "code",
   "execution_count": 6,
   "metadata": {},
   "outputs": [],
   "source": [
    "df = pd.read_excel('/home/hyungyu/survival_analysis/paper_ex/new_data_0818.xlsx')\n",
    "df = df.drop(columns=['Unnamed: 0','D_date','pic_date'])"
   ]
  },
  {
   "cell_type": "code",
   "execution_count": 1,
   "metadata": {},
   "outputs": [],
   "source": [
    "# df = df.sample(100)\n",
    "# df"
   ]
  },
  {
   "cell_type": "code",
   "execution_count": 8,
   "metadata": {},
   "outputs": [
    {
     "name": "stdout",
     "output_type": "stream",
     "text": [
      "748 210\n"
     ]
    }
   ],
   "source": [
    "print((df['event']==0).sum(), (df['event']==1).sum())"
   ]
  },
  {
   "attachments": {},
   "cell_type": "markdown",
   "metadata": {},
   "source": [
    "# Pytorch Dataset 정의"
   ]
  },
  {
   "cell_type": "code",
   "execution_count": 9,
   "metadata": {},
   "outputs": [],
   "source": [
    "from torch.utils.data import Dataset, DataLoader\n",
    "from PIL import Image"
   ]
  },
  {
   "cell_type": "code",
   "execution_count": 10,
   "metadata": {},
   "outputs": [],
   "source": [
    "class BedsoreDataset(Dataset):\n",
    "    def __init__(self, file_list, labels, transforms = None):\n",
    "        super().__init__()\n",
    "        self.file_list = file_list\n",
    "        self.labels = labels\n",
    "        self.transforms = transforms\n",
    "        \n",
    "    def __len__(self):\n",
    "        return len(self.file_list)\n",
    "        \n",
    "    def __getitem__(self, ix):\n",
    "        filename = self.file_list[ix]\n",
    "        img = Image.open(filename).convert('RGB')\n",
    "        if self.transforms is not None:\n",
    "            img = self.transforms(img)\n",
    "        label = torch.from_numpy(self.labels[ix])\n",
    "        return img, label"
   ]
  },
  {
   "attachments": {},
   "cell_type": "markdown",
   "metadata": {},
   "source": [
    "# Image Tranforms"
   ]
  },
  {
   "cell_type": "code",
   "execution_count": 11,
   "metadata": {},
   "outputs": [],
   "source": [
    "import torchvision.transforms as T"
   ]
  },
  {
   "cell_type": "code",
   "execution_count": 12,
   "metadata": {},
   "outputs": [],
   "source": [
    "size = 224\n",
    "mean = (0.485, 0.456, 0.406)\n",
    "std = (0.229, 0.224, 0.225)\n",
    "\n",
    "transforms = {\n",
    "    'train': T.Compose([\n",
    "        T.RandomResizedCrop(size, scale = (0.5, 1.0)),\n",
    "        T.RandomHorizontalFlip(),\n",
    "        T.ColorJitter(brightness= 0.3, contrast= 0.3),\n",
    "        T.RandomAffine(degrees = 20, translate= (0.1, 0.1), shear = (-10, 10)),\n",
    "        T.ToTensor(),\n",
    "        T.Normalize(mean, std)\n",
    "    ]),\n",
    "    'test': T.Compose([\n",
    "        T.Resize(256),\n",
    "        T.CenterCrop(size),\n",
    "        T.ToTensor(),\n",
    "        T.Normalize(mean, std)\n",
    "    ])\n",
    "}"
   ]
  },
  {
   "cell_type": "code",
   "execution_count": 13,
   "metadata": {},
   "outputs": [],
   "source": [
    "def get_data_from_ds(ds):\n",
    "    x_test = []\n",
    "    y_test = []\n",
    "\n",
    "    for x, y in ds:\n",
    "        x_test.append(x.numpy())\n",
    "        if isinstance(y, tuple):\n",
    "            y = torch.stack(y)\n",
    "        y_test.append(y.numpy())\n",
    "\n",
    "    x_test = np.array(x_test)\n",
    "    y_test = np.array(y_test)\n",
    "\n",
    "    durations_test, events_test = y_test.T\n",
    "\n",
    "    return x_test, durations_test, events_test"
   ]
  },
  {
   "attachments": {},
   "cell_type": "markdown",
   "metadata": {},
   "source": [
    "# Pretrained Models"
   ]
  },
  {
   "cell_type": "code",
   "execution_count": 14,
   "metadata": {},
   "outputs": [],
   "source": [
    "import torchvision.models as models\n",
    "from torchvision.models import resnet18, ResNet18_Weights"
   ]
  },
  {
   "cell_type": "code",
   "execution_count": 15,
   "metadata": {},
   "outputs": [],
   "source": [
    "device = torch.device(\"cpu\")\n",
    "if torch.cuda.is_available():\n",
    "    device = torch.device(\"cuda:0\")"
   ]
  },
  {
   "cell_type": "code",
   "execution_count": 16,
   "metadata": {},
   "outputs": [],
   "source": [
    "class resnet50(nn.Module):\n",
    "    def __init__(self):\n",
    "        super().__init__()\n",
    "        resnet50 = models.resnet50(pretrained = True)\n",
    "        del resnet50.fc\n",
    "        \n",
    "        for params in resnet50.parameters():\n",
    "            params.requires_grad = False\n",
    "            \n",
    "        self.feature = nn.Sequential(*list(resnet50.children()))\n",
    "        self.Flatten = nn.Sequential(nn.Flatten()).to(device)\n",
    "        \n",
    "    def forward(self, input):\n",
    "        feats = self.feature(input)\n",
    "        feats = self.Flatten(feats)\n",
    "        \n",
    "        return feats\n",
    "        "
   ]
  },
  {
   "cell_type": "code",
   "execution_count": 17,
   "metadata": {},
   "outputs": [],
   "source": [
    "net = resnet50()\n",
    "net.to(device)\n",
    "# net = nn.DataParallel(net).to(device)\n",
    "pass"
   ]
  },
  {
   "cell_type": "code",
   "execution_count": 18,
   "metadata": {},
   "outputs": [],
   "source": [
    "# from torchsummary import summary\n",
    "# summary(net, (3,224,224))"
   ]
  },
  {
   "attachments": {},
   "cell_type": "markdown",
   "metadata": {},
   "source": [
    "# test"
   ]
  },
  {
   "cell_type": "code",
   "execution_count": 19,
   "metadata": {},
   "outputs": [],
   "source": [
    "from sklearn.model_selection import StratifiedKFold\n",
    "from sklearn.model_selection import train_test_split"
   ]
  },
  {
   "cell_type": "code",
   "execution_count": 20,
   "metadata": {},
   "outputs": [],
   "source": [
    "n_folds = 5\n",
    "skf = StratifiedKFold(n_splits = 5)\n",
    "\n",
    "file_list = df['file_path'].values\n",
    "label_list = df[['duration', 'event']].values"
   ]
  },
  {
   "cell_type": "markdown",
   "metadata": {},
   "source": [
    "# CoxPH"
   ]
  },
  {
   "cell_type": "code",
   "execution_count": null,
   "metadata": {},
   "outputs": [],
   "source": [
    "from sklearn.decomposition import PCA\n",
    "from lifelines import CoxPHFitter\n",
    "\n",
    "c_index_train = []\n",
    "std_train = []\n",
    "\n",
    "c_index_test = []\n",
    "std_test = []\n",
    "\n",
    "for i, (train_idx, test_idx) in enumerate(skf.split(file_list, label_list[:,1])):\n",
    "    print(\"=\"*40)\n",
    "    print(\"=\"*40)\n",
    "    print(f'Fold {i+1} of {n_folds}')\n",
    "    \n",
    "    train_idx, val_idx = train_test_split(train_idx)\n",
    "    \n",
    "    train_file_list, train_labels = file_list[train_idx], label_list[train_idx]\n",
    "    val_file_list, val_labels = file_list[val_idx], label_list[val_idx]\n",
    "    test_file_list, test_labels = file_list[test_idx], label_list[test_idx]\n",
    "    print(f'( Train : {len(train_file_list)} ) Survive : {np.count_nonzero(train_labels[:,1] == 0)}명 / {np.around(np.mean(train_labels[:,1] == 0)*100 , 3)}% , Dead : {np.count_nonzero(train_labels[:,1] ==1)}명 / {np.around( np.mean(train_labels[:,1] == 1)*100, 3 )}% ')\n",
    "    print(f'( Val : {len(val_file_list)} ) Survive : {np.count_nonzero(val_labels[:,1] == 0)}명 / {np.around(np.mean(val_labels[:,1] == 0)*100 , 3)}% , Dead : {np.count_nonzero(val_labels[:,1] ==1)}명 / {np.around( np.mean(val_labels[:,1] == 1)*100, 3 )}% ')\n",
    "    print(f'( Test : {len(test_file_list)} ) Survive : {np.count_nonzero(test_labels[:,1] == 0)}명 / {np.around(np.mean(test_labels[:,1] == 0)*100 , 3)}% , Dead : {np.count_nonzero(test_labels[:,1] ==1)}명 / {np.around( np.mean(test_labels[:,1] == 1)*100, 3 )}% ')\n",
    "    \n",
    "    train_df = pd.DataFrame({'file_path': train_file_list, 'duration': train_labels[:,0], 'event': train_labels[:,1]})\n",
    "    val_df = pd.DataFrame({'file_path': val_file_list, 'duration': val_labels[:,0], 'event': val_labels[:,1]})\n",
    "    test_df = pd.DataFrame({'file_path': test_file_list, 'duration': test_labels[:,0], 'event': test_labels[:,1]})\n",
    "\n",
    "    train_ds = BedsoreDataset(train_file_list, train_labels, transforms=transforms['train'])\n",
    "    val_ds   = BedsoreDataset(val_file_list, val_labels, transforms=transforms['test'])\n",
    "    test_ds  = BedsoreDataset(test_file_list, test_labels, transforms=transforms['test'])\n",
    "    \n",
    "    # test_dl = DataLoader(test_ds, batch_size=256, shuffle = False)\n",
    "    x_train, duration_train, events_train = get_data_from_ds(train_ds)\n",
    "    x_test, duration_test, events_test = get_data_from_ds(test_ds)\n",
    "    \n",
    "    net.eval()\n",
    "    # feats = net(torch.Tensor(x_test).to(device))\n",
    "    with torch.no_grad():\n",
    "        feature_train = net(torch.Tensor(x_train).to(device))\n",
    "        feature_train = feature_train.cpu().numpy()\n",
    "        \n",
    "        feature_test = net(torch.Tensor(x_test).to(device))\n",
    "        feature_test = feature_test.cpu().numpy()\n",
    "    \n",
    "    pca = PCA(n_components=0.9)  \n",
    "    pca.fit(feature_train)\n",
    "    \n",
    "    \n",
    "    x_train_pca = pca.transform(feature_train)\n",
    "    phi_train = {f'pca{num+1}':x_train_pca[:,num] for num in range(x_train_pca.shape[1])}\n",
    "    \n",
    "    pca_train_df = pd.DataFrame(phi_train)\n",
    "    pca_train_df['duration'] = duration_train\n",
    "    pca_train_df['event'] = events_train\n",
    "    \n",
    "    \n",
    "    x_test_pca = pca.transform(feature_test)\n",
    "    phi_test = {f'pca{num+1}':x_test_pca[:,num] for num in range(x_test_pca.shape[1])}\n",
    "    pca_test_df = pd.DataFrame(phi_test)\n",
    "    pca_test_df['duration'] = duration_test\n",
    "    pca_test_df['event'] = events_test\n",
    "    \n",
    "    \n",
    "    cph = CoxPHFitter(penalizer = 0.001)\n",
    "    cph.fit(pca_train_df, duration_col='duration', event_col='event')\n",
    "    c_index_train.append(cph.score(pca_train_df, scoring_method=\"concordance_index\"))\n",
    "    # cph.print_summary()\n",
    "    \n",
    "    print(\"===============================================\")\n",
    "    print(\"===============================================\")\n",
    "    print(\"test_c_index : \",cph.score(pca_test_df, scoring_method= \"concordance_index\") )\n",
    "    c_index_test.append(cph.score(pca_test_df, scoring_method= \"concordance_index\"))\n",
    "\n",
    "print(\"===============================================\")\n",
    "print(\"===============================================\")\n",
    "average_c_index_train = np.mean(c_index_train)\n",
    "std_c_index_train = np.std(c_index_train)\n",
    "print(f\"Average C-index_Train): {average_c_index_train}\")\n",
    "print(f\"Std of C-index_Train : {std_c_index_train}\")\n",
    "\n",
    "\n",
    "average_c_index_test = np.mean(c_index_test)\n",
    "std_c_index_test = np.std(c_index_test)\n",
    "print(f\"Average C-index_Test): {average_c_index_test}\")\n",
    "print(f\"Std of C-index_Test : {std_c_index_test}\")"
   ]
  },
  {
   "cell_type": "code",
   "execution_count": 22,
   "metadata": {},
   "outputs": [],
   "source": [
    "hazard_score = cph.predict_log_partial_hazard(pca_test_df)\n",
    "bounds = np.percentile(hazard_score,[33.333, 66.666])"
   ]
  },
  {
   "cell_type": "code",
   "execution_count": null,
   "metadata": {},
   "outputs": [],
   "source": [
    "bounds"
   ]
  },
  {
   "cell_type": "code",
   "execution_count": null,
   "metadata": {},
   "outputs": [],
   "source": [
    "hazard_score"
   ]
  },
  {
   "cell_type": "code",
   "execution_count": 2,
   "metadata": {},
   "outputs": [],
   "source": [
    "a = cph.predict_survival_function(pca_test_df)\n",
    "test2 = a.T\n",
    "# test2\n",
    "# bounds = np.percentile(a[-1], [33.333, 66.666])\n",
    "\n",
    "test2['duration'] = duration_test\n",
    "test2['event'] = events_test\n",
    "test2['group'] = np.where(hazard_score<bounds[0],0,np.where(hazard_score<bounds[1],1,2))\n",
    "# test2"
   ]
  },
  {
   "cell_type": "code",
   "execution_count": null,
   "metadata": {},
   "outputs": [],
   "source": []
  },
  {
   "cell_type": "code",
   "execution_count": 30,
   "metadata": {},
   "outputs": [
    {
     "name": "stdout",
     "output_type": "stream",
     "text": [
      "p-value (low vs mid): 0.4772652422\n",
      "np-value (low vs high): 0.0163412201\n",
      "np-value (mid vs high): 0.0774057169\n"
     ]
    },
    {
     "data": {
      "image/png": "[encoded data removed]",
      "text/plain": [
       "<Figure size 700x700 with 2 Axes>"
      ]
     },
     "metadata": {},
     "output_type": "display_data"
    }
   ],
   "source": [
    "from lifelines.statistics import KaplanMeierFitter\n",
    "from lifelines.statistics import logrank_test\n",
    "from lifelines.plotting import add_at_risk_counts\n",
    "\n",
    "low_g = test2.loc[test2['group'] == 0]\n",
    "middle_g = test2.loc[test2['group'] == 1]\n",
    "high_g = test2.loc[test2['group'] == 2]\n",
    "\n",
    "result12 = logrank_test(low_g['duration'], middle_g['duration'], low_g['event'], middle_g['event'])\n",
    "result13 = logrank_test(low_g['duration'], high_g['duration'], low_g['event'], high_g['event'])\n",
    "result23 = logrank_test(middle_g['duration'], high_g['duration'], middle_g['event'], high_g['event'])\n",
    "\n",
    "p_value12 = format(result12.p_value,'.10f')\n",
    "p_value13 = format(result13.p_value,'.10f')\n",
    "p_value23 = format(result23.p_value,'.10f')\n",
    "\n",
    "plt.figure(figsize=(7,7))\n",
    "ax = plt.subplot(111)\n",
    "\n",
    "kmf_high = KaplanMeierFitter(alpha = 0.1)\n",
    "ax = kmf_high.fit(test2.loc[test2['group'] == 2]['duration'], test2.loc[test2['group'] == 2]['event'], label='high').plot_survival_function(ax=ax)\n",
    "\n",
    "kmf_mid = KaplanMeierFitter(alpha = 0.1)\n",
    "ax = kmf_mid.fit(test2.loc[test2['group'] == 1]['duration'], test2.loc[test2['group'] == 1]['event'], label='mid').plot_survival_function(ax=ax)\n",
    "\n",
    "kmf_low = KaplanMeierFitter(alpha = 0.1)\n",
    "ax = kmf_low.fit(test2.loc[test2['group'] == 0]['duration'], test2.loc[test2['group'] == 0]['event'], label='low').plot_survival_function(ax=ax)\n",
    "\n",
    "add_at_risk_counts(kmf_high, kmf_mid, kmf_low, rows_to_show = ['At risk','Events'], ax=ax)\n",
    "\n",
    "ax.text(-0.05, -0.12, 'Number at Risk', fontsize=14, fontweight='bold', transform=ax.transAxes)\n",
    "\n",
    "# p-value 값을 표시하려는 위치 지정\n",
    "text_position_x = 300\n",
    "text_position_y = 0.52\n",
    "\n",
    "# p-value 결과에 대한 텍스트\n",
    "print(f'p-value (low vs mid): {p_value12}')\n",
    "print(f'np-value (low vs high): {p_value13}')\n",
    "print(f'np-value (mid vs high): {p_value23}')\n",
    "# p_value_text = f\"p-value (low vs mid): {p_value12}\\np-value (low vs high): {p_value13}\\np-value (mid vs high): {p_value23}\"\n",
    "\n",
    "# ax.text(text_position_x, text_position_y, p_value_text, fontsize=10, bbox=dict(facecolor='white', edgecolor='black', boxstyle='round,pad=0.5'))\n",
    "plt.title('CoxPH')\n",
    "plt.tight_layout()"
   ]
  },
  {
   "cell_type": "code",
   "execution_count": null,
   "metadata": {},
   "outputs": [],
   "source": [
    "hazard_score2 = cph.predict_cumulative_hazard(pca_test_df)\n",
    "hazard_rate = np.exp(-hazard_score2).iloc[-1]\n",
    "bounds2 = np.percentile(hazard_rate,[33.333, 66.666])\n",
    "bounds2"
   ]
  },
  {
   "cell_type": "code",
   "execution_count": null,
   "metadata": {},
   "outputs": [],
   "source": [
    "hazard_rate"
   ]
  },
  {
   "cell_type": "code",
   "execution_count": 3,
   "metadata": {},
   "outputs": [],
   "source": [
    "a = cph.predict_survival_function(pca_test_df)\n",
    "test3 = a.T\n",
    "# test3\n",
    "# bounds = np.percentile(a[-1], [33.333, 66.666])\n",
    "\n",
    "test3['duration'] = duration_test\n",
    "test3['event'] = events_test\n",
    "test3['group'] = np.where(hazard_rate<bounds2[0],0,np.where(hazard_rate<bounds2[1],1,2))\n",
    "# test3"
   ]
  },
  {
   "cell_type": "code",
   "execution_count": 34,
   "metadata": {},
   "outputs": [
    {
     "name": "stdout",
     "output_type": "stream",
     "text": [
      "p-value (low vs mid): 0.4772652422\n",
      "np-value (low vs high): 0.0163412201\n",
      "np-value (mid vs high): 0.0774057169\n"
     ]
    },
    {
     "data": {
      "image/png": "[encoded data removed]",
      "text/plain": [
       "<Figure size 700x700 with 2 Axes>"
      ]
     },
     "metadata": {},
     "output_type": "display_data"
    }
   ],
   "source": [
    "from lifelines.statistics import KaplanMeierFitter\n",
    "from lifelines.statistics import logrank_test\n",
    "from lifelines.plotting import add_at_risk_counts\n",
    "\n",
    "low_g = test3.loc[test3['group'] == 2]\n",
    "middle_g = test3.loc[test3['group'] == 1]\n",
    "high_g = test3.loc[test3['group'] == 0]\n",
    "\n",
    "result12 = logrank_test(low_g['duration'], middle_g['duration'], low_g['event'], middle_g['event'])\n",
    "result13 = logrank_test(low_g['duration'], high_g['duration'], low_g['event'], high_g['event'])\n",
    "result23 = logrank_test(middle_g['duration'], high_g['duration'], middle_g['event'], high_g['event'])\n",
    "\n",
    "p_value12 = format(result12.p_value,'.10f')\n",
    "p_value13 = format(result13.p_value,'.10f')\n",
    "p_value23 = format(result23.p_value,'.10f')\n",
    "\n",
    "plt.figure(figsize=(7,7))\n",
    "ax = plt.subplot(111)\n",
    "\n",
    "kmf_high = KaplanMeierFitter(alpha = 0.1)\n",
    "ax = kmf_high.fit(test3.loc[test3['group'] == 0]['duration'], test3.loc[test3['group'] == 0]['event'], label='high').plot_survival_function(ax=ax)\n",
    "\n",
    "kmf_mid = KaplanMeierFitter(alpha = 0.1)\n",
    "ax = kmf_mid.fit(test3.loc[test3['group'] == 1]['duration'], test3.loc[test3['group'] == 1]['event'], label='mid').plot_survival_function(ax=ax)\n",
    "\n",
    "kmf_low = KaplanMeierFitter(alpha = 0.1)\n",
    "ax = kmf_low.fit(test3.loc[test3['group'] == 2]['duration'], test3.loc[test3['group'] == 2]['event'], label='low').plot_survival_function(ax=ax)\n",
    "\n",
    "add_at_risk_counts(kmf_high, kmf_mid, kmf_low, rows_to_show = ['At risk','Events'], ax=ax)\n",
    "\n",
    "ax.text(-0.05, -0.12, 'Number at Risk', fontsize=14, fontweight='bold', transform=ax.transAxes)\n",
    "\n",
    "# p-value 값을 표시하려는 위치 지정\n",
    "text_position_x = 300\n",
    "text_position_y = 0.52\n",
    "\n",
    "# p-value 결과에 대한 텍스트\n",
    "print(f'p-value (low vs mid): {p_value12}')\n",
    "print(f'np-value (low vs high): {p_value13}')\n",
    "print(f'np-value (mid vs high): {p_value23}')\n",
    "# p_value_text = f\"p-value (low vs mid): {p_value12}\\np-value (low vs high): {p_value13}\\np-value (mid vs high): {p_value23}\"\n",
    "\n",
    "# ax.text(text_position_x, text_position_y, p_value_text, fontsize=10, bbox=dict(facecolor='white', edgecolor='black', boxstyle='round,pad=0.5'))\n",
    "plt.title('CoxPH')\n",
    "plt.tight_layout()"
   ]
  },
  {
   "cell_type": "markdown",
   "metadata": {},
   "source": [
    "# Piecewise Exponential"
   ]
  },
  {
   "cell_type": "code",
   "execution_count": 23,
   "metadata": {},
   "outputs": [],
   "source": [
    "from lifelines import PiecewiseExponentialRegressionFitter"
   ]
  },
  {
   "cell_type": "code",
   "execution_count": null,
   "metadata": {},
   "outputs": [],
   "source": [
    "from sklearn.decomposition import PCA\n",
    "from lifelines import PiecewiseExponentialFitter\n",
    "from lifelines.utils import concordance_index\n",
    "from lifelines import PiecewiseExponentialRegressionFitter\n",
    "\n",
    "c_index_train = []\n",
    "std_train = []\n",
    "\n",
    "c_index_test = []\n",
    "std_test = []\n",
    "\n",
    "for i, (train_idx, test_idx) in enumerate(skf.split(file_list, label_list[:,1])):\n",
    "    print(\"=\"*40)\n",
    "    print(\"=\"*40)\n",
    "    print(f'Fold {i+1} of {n_folds}')\n",
    "    \n",
    "    train_idx, val_idx = train_test_split(train_idx)\n",
    "    \n",
    "    train_file_list, train_labels = file_list[train_idx], label_list[train_idx]\n",
    "    val_file_list, val_labels = file_list[val_idx], label_list[val_idx]\n",
    "    test_file_list, test_labels = file_list[test_idx], label_list[test_idx]\n",
    "    print(f'( Train : {len(train_file_list)} ) Survive : {np.count_nonzero(train_labels[:,1] == 0)}명 / {np.around(np.mean(train_labels[:,1] == 0)*100 , 3)}% , Dead : {np.count_nonzero(train_labels[:,1] ==1)}명 / {np.around( np.mean(train_labels[:,1] == 1)*100, 3 )}% ')\n",
    "    print(f'( Val : {len(val_file_list)} ) Survive : {np.count_nonzero(val_labels[:,1] == 0)}명 / {np.around(np.mean(val_labels[:,1] == 0)*100 , 3)}% , Dead : {np.count_nonzero(val_labels[:,1] ==1)}명 / {np.around( np.mean(val_labels[:,1] == 1)*100, 3 )}% ')\n",
    "    print(f'( Test : {len(test_file_list)} ) Survive : {np.count_nonzero(test_labels[:,1] == 0)}명 / {np.around(np.mean(test_labels[:,1] == 0)*100 , 3)}% , Dead : {np.count_nonzero(test_labels[:,1] ==1)}명 / {np.around( np.mean(test_labels[:,1] == 1)*100, 3 )}% ')\n",
    "    \n",
    "    train_ds = BedsoreDataset(train_file_list, train_labels, transforms=transforms['train'])\n",
    "    val_ds   = BedsoreDataset(val_file_list, val_labels, transforms=transforms['test'])\n",
    "    test_ds  = BedsoreDataset(test_file_list, test_labels, transforms=transforms['test'])\n",
    "    \n",
    "    # test_dl = DataLoader(test_ds, batch_size=256, shuffle = False)\n",
    "    x_train, duration_train, events_train = get_data_from_ds(train_ds)\n",
    "    x_test, durations_test, events_test = get_data_from_ds(test_ds)\n",
    "    \n",
    "    net.eval()\n",
    "    # feats = net(torch.Tensor(x_test).to(device))\n",
    "    with torch.no_grad():\n",
    "        feature_train = net(torch.Tensor(x_train).to(device))\n",
    "        feature_train = feature_train.cpu().numpy()\n",
    "        \n",
    "        feature_test = net(torch.Tensor(x_test).to(device))\n",
    "        feature_test = feature_test.cpu().numpy()\n",
    "    # pca = PCA(n_components=3)\n",
    "    pca = PCA(n_components=0.9)  \n",
    "    pca.fit(feature_train)\n",
    "    \n",
    "    x_train_pca = pca.transform(feature_train)\n",
    "    phi_train = {f'pca{num+1}':x_train_pca[:,num] for num in range(x_train_pca.shape[1])}\n",
    "\n",
    "    pca_train_df = pd.DataFrame(phi_train)\n",
    "    pca_train_df['duration'] = duration_train / 100\n",
    "    pca_train_df['event'] = events_train\n",
    "\n",
    "    \n",
    "    x_test_pca = pca.transform(feature_test)\n",
    "    phi_test = {f'pca{num+1}':x_test_pca[:,num] for num in range(x_test_pca.shape[1])}\n",
    "    pca_test_df = pd.DataFrame(phi_test)\n",
    "    pca_test_df['duration'] = durations_test / 100\n",
    "    pca_test_df['event'] = events_test\n",
    "    \n",
    "    \n",
    "    mini = min(duration_train/100)\n",
    "    maxi = max(duration_train/100)\n",
    "    print(f\"mini : {mini}, maxi : {maxi}\")\n",
    "    a= np.linspace(mini, maxi, 6)\n",
    "    time_interval = a[1:5]\n",
    "    epsilon = 1e-6\n",
    "    pca_train_df['duration'] = pca_train_df['duration'].apply(lambda x: x if x > 0 else x + epsilon)\n",
    "    \n",
    "    # pc_hazard_fiiter = PiecewiseExponentialFitter(breakpoints=[115.6, 231.2, 346.8, 462.4])\n",
    "    # PW_Exp = PiecewiseExponentialFitter(breakpoints = time_interval)\n",
    "    PW_Exp = PiecewiseExponentialRegressionFitter(breakpoints = time_interval, alpha = 0.05, penalizer = 0.001)\n",
    "    PW_Exp.fit(df = pca_train_df, duration_col = 'duration', event_col = 'event',show_progress=True)\n",
    "    c_index_train.append(PW_Exp.score(pca_train_df, scoring_method=\"concordance_index\"))\n",
    "    # PW_Exp.print_summary()\n",
    "    print(\"test_c_index : \",PW_Exp.score(pca_test_df, scoring_method= \"concordance_index\") )\n",
    "    c_index_test.append(PW_Exp.score(df = pca_test_df, scoring_method=\"concordance_index\"))\n",
    "    \n",
    "    # c_index_val = concordance_index(df_test_t[\"duration\"], -predict_partial_hazard(df_test_t[[\"pca\"]]), df_test_t[\"event\"])\n",
    "    # pc_hazard_fiiter.fit(df_test_t, duration_col='duration', event_col='event')\n",
    "    # c_index.append(pc_hazard_fiiter.score(df_test_t, scoring_method=\"concordance_index\"))\n",
    "    \n",
    "    \n",
    "print(\"===============================================\")\n",
    "print(\"===============================================\")\n",
    "average_c_index_train = np.mean(c_index_train)\n",
    "std_c_index_train = np.std(c_index_train)\n",
    "print(f\"Average C-index_Train): {average_c_index_train}\")\n",
    "print(f\"Std of C-index_Train : {std_c_index_train}\")\n",
    "\n",
    "\n",
    "average_c_index_test = np.mean(c_index_test)\n",
    "std_c_index_test = np.std(c_index_test)\n",
    "print(f\"Average C-index_Test): {average_c_index_test}\")\n",
    "print(f\"Std of C-index_Test : {std_c_index_test}\")"
   ]
  },
  {
   "cell_type": "code",
   "execution_count": 23,
   "metadata": {},
   "outputs": [],
   "source": [
    "a= PW_Exp.predict_cumulative_hazard(pca_test_df)\n",
    "surv_rate = np.exp(-a).iloc[-1]"
   ]
  },
  {
   "cell_type": "code",
   "execution_count": null,
   "metadata": {},
   "outputs": [],
   "source": [
    "surv_rate"
   ]
  },
  {
   "cell_type": "code",
   "execution_count": null,
   "metadata": {},
   "outputs": [],
   "source": [
    "bounds = np.percentile(surv_rate,[33.333, 66.666])\n",
    "bounds"
   ]
  },
  {
   "cell_type": "code",
   "execution_count": 4,
   "metadata": {},
   "outputs": [],
   "source": [
    "surv = PW_Exp.predict_survival_function(pca_test_df)\n",
    "test = surv.T\n",
    "test['duration'] = durations_test\n",
    "test['event'] = events_test\n",
    "test['group'] = np.where(surv_rate.T<bounds[0],0,np.where(surv_rate.T<bounds[1],1,2))\n",
    "# test"
   ]
  },
  {
   "cell_type": "code",
   "execution_count": 30,
   "metadata": {},
   "outputs": [
    {
     "name": "stdout",
     "output_type": "stream",
     "text": [
      "p-value (low vs mid): 0.0344593296\n",
      "p-value (low vs high): 0.0094048779\n",
      "p-value (mid vs high): 0.6590577048\n"
     ]
    },
    {
     "data": {
      "image/png": "[encoded data removed]",
      "text/plain": [
       "<Figure size 700x700 with 2 Axes>"
      ]
     },
     "metadata": {},
     "output_type": "display_data"
    }
   ],
   "source": [
    "from lifelines.statistics import KaplanMeierFitter\n",
    "from lifelines.statistics import logrank_test\n",
    "from lifelines.plotting import add_at_risk_counts\n",
    "\n",
    "low_g = test.loc[test['group'] == 2] # 생존확률이 낮을 수록 고위험군이니까 low -> high\n",
    "middle_g = test.loc[test['group'] == 1]\n",
    "high_g = test.loc[test['group'] == 0]\n",
    "\n",
    "result12 = logrank_test(low_g['duration'], middle_g['duration'], low_g['event'], middle_g['event'])\n",
    "result13 = logrank_test(low_g['duration'], high_g['duration'], low_g['event'], high_g['event'])\n",
    "result23 = logrank_test(middle_g['duration'], high_g['duration'], middle_g['event'], high_g['event'])\n",
    "\n",
    "p_value12 = format(result12.p_value,'.10f')\n",
    "p_value13 = format(result13.p_value,'.10f')\n",
    "p_value23 = format(result23.p_value,'.10f')\n",
    "\n",
    "plt.figure(figsize=(7,7))\n",
    "ax = plt.subplot(111)\n",
    "\n",
    "kmf_high = KaplanMeierFitter(alpha = 0.1)\n",
    "ax = kmf_high.fit(test.loc[test['group'] == 0]['duration'], test.loc[test['group'] == 0]['event'], label='high').plot_survival_function(ax=ax)\n",
    "\n",
    "kmf_mid = KaplanMeierFitter(alpha = 0.1)\n",
    "ax = kmf_mid.fit(test.loc[test['group'] == 1]['duration'], test.loc[test['group'] == 1]['event'], label='mid').plot_survival_function(ax=ax)\n",
    "\n",
    "kmf_low = KaplanMeierFitter(alpha = 0.1)\n",
    "ax = kmf_low.fit(test.loc[test['group'] == 2]['duration'], test.loc[test['group'] == 2]['event'], label='low').plot_survival_function(ax=ax)\n",
    "\n",
    "add_at_risk_counts(kmf_high, kmf_mid, kmf_low, rows_to_show = ['At risk','Events'], ax=ax)\n",
    "\n",
    "ax.text(-0.05, -0.12, 'Number at Risk', fontsize=14, fontweight='bold', transform=ax.transAxes)\n",
    "\n",
    "# p-value 값을 표시하려는 위치 지정\n",
    "text_position_x = 300\n",
    "text_position_y = 0.6\n",
    "\n",
    "# p-value 결과에 대한 텍스트\n",
    "print(f'p-value (low vs mid): {p_value12}')\n",
    "print(f'p-value (low vs high): {p_value13}')\n",
    "print(f'p-value (mid vs high): {p_value23}')\n",
    "# p_value_text = f\"p-value (low vs mid): {p_value12}\\np-value (low vs high): {p_value13}\\np-value (mid vs high): {p_value23}\"\n",
    "\n",
    "# ax.text(text_position_x, text_position_y, p_value_text, fontsize=10, bbox=dict(facecolor='white', edgecolor='black', boxstyle='round,pad=0.5'))\n",
    "plt.title('Piecewise-Exponential')\n",
    "plt.tight_layout()"
   ]
  },
  {
   "cell_type": "code",
   "execution_count": null,
   "metadata": {},
   "outputs": [],
   "source": []
  }
 ],
 "metadata": {
  "kernelspec": {
   "display_name": "torch",
   "language": "python",
   "name": "python3"
  },
  "language_info": {
   "codemirror_mode": {
    "name": "ipython",
    "version": 3
   },
   "file_extension": ".py",
   "mimetype": "text/x-python",
   "name": "python",
   "nbconvert_exporter": "python",
   "pygments_lexer": "ipython3",
   "version": "3.8.19"
  },
  "orig_nbformat": 4
 },
 "nbformat": 4,
 "nbformat_minor": 2
}
