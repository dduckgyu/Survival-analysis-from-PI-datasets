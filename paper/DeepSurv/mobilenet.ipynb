{
 "cells": [
  {
   "cell_type": "code",
   "execution_count": 1,
   "metadata": {},
   "outputs": [],
   "source": [
    "import warnings\n",
    "warnings.filterwarnings('ignore')"
   ]
  },
  {
   "cell_type": "markdown",
   "metadata": {},
   "source": [
    "\n",
    "# Cross Validation"
   ]
  },
  {
   "cell_type": "code",
   "execution_count": 2,
   "metadata": {},
   "outputs": [],
   "source": [
    "import pandas as pd\n",
    "import numpy as np\n",
    "import matplotlib.pyplot as plt\n",
    "\n",
    "import torch\n",
    "import torch.nn as nn\n",
    "import torchvision.models as models"
   ]
  },
  {
   "cell_type": "code",
   "execution_count": 3,
   "metadata": {},
   "outputs": [],
   "source": [
    "def seed_everything(random_state=0):\n",
    "    \"\"\"\n",
    "    Fix randomness for deterministic results\n",
    "    :param random_state: random state generating random numbers\n",
    "    :return: None\n",
    "    \"\"\"\n",
    "\n",
    "    np.random.seed(random_state)\n",
    "    _ = torch.manual_seed(random_state)\n",
    "    torch.cuda.manual_seed(random_state)\n",
    "    torch.cuda.manual_seed_all(random_state)\n",
    "    torch.backends.cudnn.deterministic = True\n",
    "    torch.backends.cudnn.benchmark = False"
   ]
  },
  {
   "cell_type": "code",
   "execution_count": 4,
   "metadata": {},
   "outputs": [],
   "source": [
    "random_state = 0\n",
    "seed_everything(random_state)"
   ]
  },
  {
   "cell_type": "code",
   "execution_count": 5,
   "metadata": {},
   "outputs": [],
   "source": [
    "import os\n",
    "os.environ['CUDA_VISIBLE_DEVICES'] = '0'"
   ]
  },
  {
   "cell_type": "code",
   "execution_count": 6,
   "metadata": {},
   "outputs": [
    {
     "name": "stdout",
     "output_type": "stream",
     "text": [
      "Device: cuda\n",
      "Current cuda device: 0\n",
      "Count of using GPUs: 1\n"
     ]
    }
   ],
   "source": [
    "device = torch.device(\"cuda\" if torch.cuda.is_available() else \"cpu\")\n",
    "\n",
    "print('Device:', device)\n",
    "print('Current cuda device:', torch.cuda.current_device())\n",
    "print('Count of using GPUs:', torch.cuda.device_count())"
   ]
  },
  {
   "cell_type": "code",
   "execution_count": 7,
   "metadata": {},
   "outputs": [],
   "source": [
    "\n",
    "df = pd.read_excel('/home/hyungyu/survival_analysis/paper_ex/new_data_0818.xlsx')\n",
    "df = df.drop(columns=['Unnamed: 0','D_date','pic_date'])"
   ]
  },
  {
   "cell_type": "code",
   "execution_count": 1,
   "metadata": {},
   "outputs": [],
   "source": [
    "# df = df.sample(100)\n",
    "# df"
   ]
  },
  {
   "cell_type": "code",
   "execution_count": 10,
   "metadata": {},
   "outputs": [
    {
     "name": "stdout",
     "output_type": "stream",
     "text": [
      "748 210\n"
     ]
    }
   ],
   "source": [
    "print((df['event']==0).sum(), (df['event']==1).sum())"
   ]
  },
  {
   "cell_type": "markdown",
   "metadata": {},
   "source": [
    "## PyTorch dataset"
   ]
  },
  {
   "cell_type": "code",
   "execution_count": 14,
   "metadata": {},
   "outputs": [],
   "source": [
    "import torch\n",
    "from torch.utils.data import Dataset, DataLoader\n",
    "import torchvision.transforms as T\n",
    "from PIL import Image"
   ]
  },
  {
   "cell_type": "code",
   "execution_count": 15,
   "metadata": {},
   "outputs": [],
   "source": [
    "class MyDataset(Dataset):\n",
    "    def __init__(self, file_list, labels, transform=None):\n",
    "        super().__init__()\n",
    "        self.file_list = file_list\n",
    "        self.labels = labels\n",
    "        self.transform = transform\n",
    "        \n",
    "    def __getitem__(self, ix):\n",
    "        filename = self.file_list[ix]\n",
    "        img = Image.open(filename).convert('RGB')\n",
    "        if self.transform is not None:\n",
    "            img = self.transform(img)\n",
    "        label = torch.from_numpy(self.labels[ix])\n",
    "        return img, label\n",
    "    \n",
    "    def __len__(self):\n",
    "        return len(self.file_list)\n",
    "    \n",
    "    def calculate_weights(self):\n",
    "        event_samples = [0, 0] # label 0, label 1\n",
    "        for label in self.labels:\n",
    "            event_samples[int(label[2])] += 1 # event label\n",
    "        event_weights = 1. / torch.tensor(event_samples, dtype=torch.float)\n",
    "        weights = event_weights[self.labels[:,2]] # event label\n",
    "        return weights\n",
    "    "
   ]
  },
  {
   "cell_type": "markdown",
   "metadata": {},
   "source": [
    "## Image transforms"
   ]
  },
  {
   "cell_type": "code",
   "execution_count": 16,
   "metadata": {},
   "outputs": [],
   "source": [
    "size = 224\n",
    "mean = (0.485, 0.456, 0.406)\n",
    "std = (0.229, 0.224, 0.225)\n",
    "\n",
    "transforms = {\n",
    "    'train': T.Compose([\n",
    "        T.RandomResizedCrop(size, scale = (0.5, 1.0)),\n",
    "        T.RandomHorizontalFlip(),\n",
    "        T.ColorJitter(brightness = 0.3, contrast= 0.3),\n",
    "        T.RandomAffine(degrees= 20, translate = (0.1,0.1), shear=(-10,10)),\n",
    "        T.ToTensor(),\n",
    "        T.Normalize(mean, std)\n",
    "    ]),\n",
    "    'test': T.Compose([\n",
    "        T.Resize(256),\n",
    "        T.CenterCrop(size),\n",
    "        T.ToTensor(),\n",
    "        T.Normalize(mean, std)\n",
    "    ])\n",
    "}"
   ]
  },
  {
   "cell_type": "code",
   "execution_count": 17,
   "metadata": {},
   "outputs": [],
   "source": [
    "def get_data_from_ds(ds):\n",
    "    x_test = []\n",
    "    y_test = []\n",
    "\n",
    "    for x, y in ds:\n",
    "        x_test.append(x.numpy())\n",
    "        if isinstance(y, tuple):\n",
    "            y = torch.stack(y)\n",
    "        y_test.append(y.numpy())\n",
    "\n",
    "    x_test = np.array(x_test)\n",
    "    y_test = np.array(y_test)\n",
    "    \n",
    "    durations_test, events_test = y_test.T\n",
    "\n",
    "    return x_test, durations_test, events_test"
   ]
  },
  {
   "cell_type": "markdown",
   "metadata": {},
   "source": [
    "# Loss function"
   ]
  },
  {
   "cell_type": "code",
   "execution_count": 18,
   "metadata": {},
   "outputs": [],
   "source": [
    "class CoxPHLoss(nn.Module):\n",
    "    \"\"\"Loss for CoxPH model. If data is sorted by descending duration, see `cox_ph_loss_sorted`.\n",
    "\n",
    "    We calculate the negative log of $(\\frac{h_i}{\\sum_{j \\in R_i} h_j})^d$,\n",
    "    where h = exp(log_h) are the hazards and R is the risk set, and d is event.\n",
    "\n",
    "    We just compute a cumulative sum, and not the true Risk sets. This is a\n",
    "    limitation, but simple and fast.\n",
    "    \"\"\"\n",
    "    def forward(self, log_h, label):\n",
    "        durations, events = label.T\n",
    "        return cox_ph_loss(log_h, durations, events)"
   ]
  },
  {
   "cell_type": "markdown",
   "metadata": {},
   "source": [
    "# Model architecture"
   ]
  },
  {
   "cell_type": "code",
   "execution_count": 19,
   "metadata": {},
   "outputs": [],
   "source": [
    "import torchvision.models as models"
   ]
  },
  {
   "cell_type": "code",
   "execution_count": 20,
   "metadata": {},
   "outputs": [],
   "source": [
    "device = torch.device(\"cpu\")\n",
    "if torch.cuda.is_available():\n",
    "    device = torch.device(\"cuda\")"
   ]
  },
  {
   "cell_type": "code",
   "execution_count": 21,
   "metadata": {},
   "outputs": [],
   "source": [
    "class ConvNet_SA(nn.Module):\n",
    "    def __init__(self, \n",
    "                 encoded_features=1280, \n",
    "                 out_features=1):\n",
    "        super().__init__()\n",
    "        mobilenet = models.mobilenet_v2(pretrained=True)\n",
    "        del mobilenet.classifier\n",
    "       \n",
    "        for name,param in mobilenet.named_parameters():\n",
    "            if 'feature.17' in name or 'feature.18' in name:\n",
    "                continue\n",
    "            else:\n",
    "                param.requires_grad = False\n",
    "                \n",
    "        self.feature = nn.Sequential(*list(mobilenet.children()))\n",
    "        self.GAP = nn.Sequential(nn.AdaptiveAvgPool2d(output_size = (1,1)))\n",
    "        self.classifier = torch.nn.Sequential(torch.nn.Flatten()).to(device)\n",
    "        \n",
    "        self.surv_net = nn.Sequential(\n",
    "            nn.Linear(encoded_features, encoded_features),nn.ReLU(),nn.BatchNorm1d(encoded_features),nn.Dropout(0.5),\n",
    "            nn.Linear(encoded_features, 16),nn.ReLU(),nn.BatchNorm1d(16),nn.Dropout(0.5),\n",
    "            nn.Linear(16, 16), nn.ReLU(),nn.BatchNorm1d(16),nn.Dropout(0.5),\n",
    "            nn.Linear(16, out_features)\n",
    "        )\n",
    "\n",
    "    def forward(self, input):\n",
    "        feats = self.feature(input)\n",
    "        feats = self.GAP(feats)\n",
    "        feats = self.classifier(feats)\n",
    "        phi = self.surv_net(feats)\n",
    "        return phi"
   ]
  },
  {
   "cell_type": "code",
   "execution_count": 22,
   "metadata": {},
   "outputs": [],
   "source": [
    "net = ConvNet_SA()\n",
    "net = net.to(device)\n",
    "pass\n"
   ]
  },
  {
   "cell_type": "code",
   "execution_count": 23,
   "metadata": {
    "scrolled": false
   },
   "outputs": [],
   "source": [
    "# from torchsummary import summary"
   ]
  },
  {
   "cell_type": "code",
   "execution_count": 24,
   "metadata": {},
   "outputs": [],
   "source": [
    "# summary(net, (3,224, 224))"
   ]
  },
  {
   "cell_type": "markdown",
   "metadata": {},
   "source": [
    "## Train/Val/Test split"
   ]
  },
  {
   "cell_type": "code",
   "execution_count": 25,
   "metadata": {},
   "outputs": [],
   "source": [
    "from sklearn.model_selection import StratifiedKFold\n",
    "from sklearn.model_selection import train_test_split\n",
    "\n",
    "from pycox.models import CoxPH\n",
    "from pycox.evaluation import EvalSurv\n",
    "from pycox.models.loss import cox_ph_loss\n",
    "import torchtuples as tt"
   ]
  },
  {
   "cell_type": "code",
   "execution_count": 26,
   "metadata": {},
   "outputs": [],
   "source": [
    "n_folds = 5\n",
    "skf = StratifiedKFold(n_splits = 5)"
   ]
  },
  {
   "cell_type": "code",
   "execution_count": 27,
   "metadata": {},
   "outputs": [],
   "source": [
    "file_list = df['file_path'].values\n",
    "label_list = df[['duration', 'event']].values"
   ]
  },
  {
   "cell_type": "code",
   "execution_count": 28,
   "metadata": {},
   "outputs": [],
   "source": [
    "# label_list[:,1]"
   ]
  },
  {
   "cell_type": "code",
   "execution_count": 29,
   "metadata": {},
   "outputs": [],
   "source": [
    "from torch.utils.data import WeightedRandomSampler"
   ]
  },
  {
   "cell_type": "code",
   "execution_count": 2,
   "metadata": {},
   "outputs": [],
   "source": [
    "train_c_index_values = []\n",
    "test_c_index_values = []\n",
    "test_brier_score_values = []\n",
    "test_nbll_values = []\n",
    "std = []\n",
    "\n",
    "\n",
    "for i, (train_idx, test_idx) in enumerate(skf.split(file_list, label_list[:,1])):\n",
    "    print(\"=\"*40)\n",
    "    print(\"=\"*40)\n",
    "    print(f'Fold {i+1} of {n_folds}')\n",
    "    \n",
    "    train_idx, val_idx = train_test_split(train_idx)\n",
    "    \n",
    "    train_file_list, train_labels = file_list[train_idx], label_list[train_idx]\n",
    "    val_file_list, val_labels = file_list[val_idx], label_list[val_idx]\n",
    "    test_file_list, test_labels = file_list[test_idx], label_list[test_idx]\n",
    "    print(f'( Train : {len(train_file_list)} ) Survive : {np.count_nonzero(train_labels[:,1] == 0)}명 / {np.around(np.mean(train_labels[:,1] == 0)*100 , 3)}% , Dead : {np.count_nonzero(train_labels[:,1] ==1)}명 / {np.around( np.mean(train_labels[:,1] == 1)*100, 3 )}% ')\n",
    "    print(f'( Val : {len(val_file_list)} ) Survive : {np.count_nonzero(val_labels[:,1] == 0)}명 / {np.around(np.mean(val_labels[:,1] == 0)*100 , 3)}% , Dead : {np.count_nonzero(val_labels[:,1] ==1)}명 / {np.around( np.mean(val_labels[:,1] == 1)*100, 3 )}% ')\n",
    "    print(f'( Test : {len(test_file_list)} ) Survive : {np.count_nonzero(test_labels[:,1] == 0)}명 / {np.around(np.mean(test_labels[:,1] == 0)*100 , 3)}% , Dead : {np.count_nonzero(test_labels[:,1] ==1)}명 / {np.around( np.mean(test_labels[:,1] == 1)*100, 3 )}% ')\n",
    "    \n",
    "    ####\n",
    "    train_df = pd.DataFrame({'file_path': train_file_list, 'duration': train_labels[:,0], 'event': train_labels[:,1]})\n",
    "    val_df = pd.DataFrame({'file_path': val_file_list, 'duration': val_labels[:,0], 'event': val_labels[:,1]})\n",
    "    test_df = pd.DataFrame({'file_path': test_file_list, 'duration': test_labels[:,0], 'event': test_labels[:,1]})\n",
    "    ####\n",
    "    \n",
    "    train_ds = MyDataset(train_file_list, train_labels, transform=transforms['train'])\n",
    "    val_ds   = MyDataset(val_file_list, val_labels, transform=transforms['test'])\n",
    "    test_ds  = MyDataset(test_file_list, test_labels, transform=transforms['test'])\n",
    "    \n",
    "    x_test,durations_test, events_test = get_data_from_ds(test_ds)\n",
    "    \n",
    "    x_train, *y_train = get_data_from_ds(train_ds)\n",
    "    \n",
    "    ### DataLoader\n",
    "    \n",
    "    train_dl = DataLoader(train_ds, batch_size=128, shuffle = True)\n",
    "    val_dl = DataLoader(val_ds, batch_size = 256)\n",
    "\n",
    "    \n",
    "    model = CoxPH(net, tt.optim.Adam, device=device, loss=CoxPHLoss())\n",
    "    \n",
    "    ### 실험 시작\n",
    "    \n",
    "    log = model.fit_dataloader(train_dl, \n",
    "                           epochs=1000, \n",
    "                           callbacks=[tt.callbacks.EarlyStopping(patience = 10)],\n",
    "                           val_dataloader=val_dl, \n",
    "                           verbose=True)\n",
    "    \n",
    "    log.plot(); plt.plot()\n",
    "    model.training_data = (x_train, y_train)\n",
    "    \n",
    "    # 생존 곡선 확인\n",
    "    _ = model.compute_baseline_hazards()\n",
    "    \n",
    "    surv = model.predict_surv_df(x_test)\n",
    "    \n",
    "    plt.title('Fold {} - Survival Curve'.format(i+1))\n",
    "    surv.iloc[:, :5].plot(drawstyle='steps-post')\n",
    "    plt.ylabel('S(t | x)')\n",
    "    _ = plt.xlabel('Time')\n",
    "    \n",
    "    # 생존분석 평가 준비\n",
    "    \n",
    "    ev = EvalSurv(surv, durations_test, events_test, censor_surv='km')\n",
    "    time_grid = np.linspace(durations_test.min(), durations_test.max(), 100)\n",
    "    # test 평가\n",
    "    test_c_index = ev.concordance_td()\n",
    "    test_brier_score = ev.integrated_brier_score(time_grid)\n",
    "    test_nbll = ev.integrated_nbll(time_grid)\n",
    "    \n",
    "    # train 평가\n",
    "    surv_train = model.predict_surv_df(x_train)\n",
    "    ev1 = EvalSurv(surv_train, y_train[0], y_train[1], censor_surv='km')\n",
    "    train_c_index = ev1.concordance_td()\n",
    "    \n",
    "    train_c_index_values.append(train_c_index)\n",
    "    test_c_index_values.append(test_c_index)\n",
    "    test_brier_score_values.append(test_brier_score)\n",
    "    test_nbll_values.append(test_nbll)\n",
    "    \n",
    "    # Train, Test 평가 확인\n",
    "    print(f'Fold {i+1} train C-Index: {train_c_index:.4f}')\n",
    "    print(f'Fold {i+1} test C-Index: {test_c_index:.4f}')\n",
    "    print(f\"Fold {i+1} test integrated_brier_score : {ev.integrated_brier_score(time_grid)}\")\n",
    "    print(f\"Fold {i+1} test integrated_nbll :  {ev.integrated_nbll(time_grid)}\")\n",
    "    print(f\"Fold {i+1} test concordance_td : {ev.concordance_td()}\")\n",
    "    print(f'Fold {i+1} End')\n",
    "    \n",
    "    savePath = f'/home/hyungyu/survival_analysis/paper_ex/deepsurv/checkpoint/mobilenet/{net.__class__.__name__}_Fold{i+1}.pt'\n",
    "    torch.save(net.state_dict(), savePath)\n",
    "\n",
    "avg_train_c_index = sum(train_c_index_values) / len(train_c_index_values)  \n",
    "avg_test_c_index = sum(test_c_index_values) / len(test_c_index_values)\n",
    "avg_test_br_score = sum(test_brier_score_values) / len(test_brier_score_values)\n",
    "avg_test_nbll = sum(test_nbll_values) / len(test_nbll_values)\n",
    "std_test_c_index = np.std(test_c_index_values)\n",
    "# 분산 추가해야함\n",
    "print(f'Average_train_C_index : {avg_train_c_index}')\n",
    "print(f'Average_test_C_index : {avg_test_c_index}')\n",
    "print(f'Std_test_C_index : {std_test_c_index}')\n",
    "print(f'Average_test_br_score : {avg_test_br_score}')\n",
    "print(f'Average_test_nbll : {avg_test_nbll}')\n",
    "    "
   ]
  },
  {
   "attachments": {},
   "cell_type": "markdown",
   "metadata": {},
   "source": [
    "# Kaplan"
   ]
  },
  {
   "cell_type": "code",
   "execution_count": null,
   "metadata": {},
   "outputs": [],
   "source": [
    "surv_rate = surv.T.iloc[:,-1]\n",
    "hazard_score = -1* np.log( surv_rate)\n",
    "#  hazard_score # 높을 수록 사망 확률이 높다라는 의미\n",
    "mean_hazard = np.median(hazard_score)"
   ]
  },
  {
   "cell_type": "code",
   "execution_count": 39,
   "metadata": {},
   "outputs": [
    {
     "data": {
      "text/plain": [
       "Text(0.5, 1.0, 'Distribution of HR')"
      ]
     },
     "execution_count": 39,
     "metadata": {},
     "output_type": "execute_result"
    },
    {
     "data": {
      "image/png": "[encoded data removed]",
      "text/plain": [
       "<Figure size 640x480 with 1 Axes>"
      ]
     },
     "metadata": {},
     "output_type": "display_data"
    }
   ],
   "source": [
    "hazard_score.plot(kind = 'hist', bins = 100)\n",
    "plt.title('Distribution of HR')"
   ]
  },
  {
   "cell_type": "code",
   "execution_count": 3,
   "metadata": {},
   "outputs": [],
   "source": [
    "test2 = surv.T\n",
    "bounds = np.percentile(hazard_score,[33.333, 66.666])\n",
    "test2['duration'] = durations_test\n",
    "test2['event'] = events_test\n",
    "test2['group'] = np.where(hazard_score<bounds[0],0,np.where(hazard_score<bounds[1],1,2))\n",
    "test2"
   ]
  },
  {
   "cell_type": "code",
   "execution_count": 44,
   "metadata": {},
   "outputs": [
    {
     "data": {
      "image/png": "[encoded data removed]",
      "text/plain": [
       "<Figure size 700x700 with 2 Axes>"
      ]
     },
     "metadata": {},
     "output_type": "display_data"
    }
   ],
   "source": [
    "from lifelines.statistics import logrank_test\n",
    "\n",
    "low_g = test2.loc[test2['group'] == 0]\n",
    "middle_g = test2.loc[test2['group'] == 1]\n",
    "high_g = test2.loc[test2['group'] == 2]\n",
    "\n",
    "result12 = logrank_test(low_g['duration'], middle_g['duration'], low_g['event'], middle_g['event'])\n",
    "result13 = logrank_test(low_g['duration'], high_g['duration'], low_g['event'], high_g['event'])\n",
    "result23 = logrank_test(middle_g['duration'], high_g['duration'], middle_g['event'], high_g['event'])\n",
    "\n",
    "p_value12 = format(result12.p_value,'.10f')\n",
    "p_value13 = format(result13.p_value,'.10f')\n",
    "p_value23 = format(result23.p_value,'.10f')\n",
    "\n",
    "plt.figure(figsize=(7,7))\n",
    "ax = plt.subplot(111)\n",
    "\n",
    "kmf_high = KaplanMeierFitter(alpha = 0.1)\n",
    "ax = kmf_high.fit(test2.loc[test2['group'] == 2]['duration'], test2.loc[test2['group'] == 2]['event'], label='high').plot_survival_function(ax=ax)\n",
    "\n",
    "kmf_mid = KaplanMeierFitter(alpha = 0.1)\n",
    "ax = kmf_mid.fit(test2.loc[test2['group'] == 1]['duration'], test2.loc[test2['group'] == 1]['event'], label='mid').plot_survival_function(ax=ax)\n",
    "\n",
    "kmf_low = KaplanMeierFitter(alpha = 0.1)\n",
    "ax = kmf_low.fit(test2.loc[test2['group'] == 0]['duration'], test2.loc[test2['group'] == 0]['event'], label='low').plot_survival_function(ax=ax)\n",
    "\n",
    "add_at_risk_counts(kmf_high, kmf_mid, kmf_low, rows_to_show = ['At risk','Events'], ax=ax)\n",
    "\n",
    "ax.text(-0.05, -0.12, 'Number at Risk', fontsize=14, fontweight='bold', transform=ax.transAxes)\n",
    "\n",
    "# p-value 값을 표시하려는 위치 지정\n",
    "text_position_x = 300\n",
    "text_position_y = 0.55\n",
    "\n",
    "# p-value 결과에 대한 텍스트\n",
    "p_value_text = f\"p-value (low vs mid): {p_value12}\\np-value (low vs high): {p_value13}\\np-value (mid vs high): {p_value23}\"\n",
    "\n",
    "ax.text(text_position_x, text_position_y, p_value_text, fontsize=10, bbox=dict(facecolor='white', edgecolor='black', boxstyle='round,pad=0.5'))\n",
    "\n",
    "plt.tight_layout()"
   ]
  },
  {
   "cell_type": "code",
   "execution_count": null,
   "metadata": {},
   "outputs": [],
   "source": []
  }
 ],
 "metadata": {
  "kernelspec": {
   "display_name": "Python 3 (ipykernel)",
   "language": "python",
   "name": "python3"
  },
  "language_info": {
   "codemirror_mode": {
    "name": "ipython",
    "version": 3
   },
   "file_extension": ".py",
   "mimetype": "text/x-python",
   "name": "python",
   "nbconvert_exporter": "python",
   "pygments_lexer": "ipython3",
   "version": "3.8.19"
  }
 },
 "nbformat": 4,
 "nbformat_minor": 2
}
